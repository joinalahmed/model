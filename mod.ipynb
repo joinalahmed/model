{
 "cells": [
  {
   "cell_type": "code",
   "execution_count": 1,
   "metadata": {},
   "outputs": [
    {
     "name": "stderr",
     "output_type": "stream",
     "text": [
      "/anaconda3/lib/python3.6/site-packages/h5py/__init__.py:36: FutureWarning: Conversion of the second argument of issubdtype from `float` to `np.floating` is deprecated. In future, it will be treated as `np.float64 == np.dtype(float).type`.\n",
      "  from ._conv import register_converters as _register_converters\n",
      "Using TensorFlow backend.\n"
     ]
    }
   ],
   "source": [
    "from keras.preprocessing.image import ImageDataGenerator\n",
    "from keras.models import Sequential\n",
    "from keras.layers import Convolution2D, MaxPooling2D, ZeroPadding2D\n",
    "from keras.layers import Activation, Dropout, Flatten, Dense\n",
    "from keras import backend as K\n",
    "from keras.preprocessing import image\n",
    "import numpy as np\n",
    "from keras.callbacks import Callback"
   ]
  },
  {
   "cell_type": "code",
   "execution_count": 2,
   "metadata": {},
   "outputs": [],
   "source": [
    "img_width, img_height = 150, 150\n",
    "\n",
    "train_data_dir = '/Users/joinalahmed/Desktop/datas/glaucoma/test'\n",
    "validation_data_dir = '/Users/joinalahmed/Desktop/datas/glaucoma/validation'\n",
    "\n",
    "nb_train_samples = 2000\n",
    "nb_validation_samples = 800\n",
    "epochs = 50\n",
    "batch_size = 16"
   ]
  },
  {
   "cell_type": "code",
   "execution_count": 3,
   "metadata": {},
   "outputs": [],
   "source": [
    "if K.image_data_format() == 'channels_first':\n",
    "    input_shape = (3, img_width, img_height)\n",
    "else:\n",
    "    input_shape = (img_width, img_height, 3)\n"
   ]
  },
  {
   "cell_type": "code",
   "execution_count": 4,
   "metadata": {},
   "outputs": [],
   "source": [
    "model = Sequential()\n",
    "model.add(Convolution2D(32, (3, 3), input_shape=input_shape))\n",
    "model.add(Activation('relu'))\n",
    "model.add(MaxPooling2D(pool_size=(2, 2)))\n",
    "\n",
    "model.add(Convolution2D(32, (3, 3)))\n",
    "model.add(Activation('relu'))\n",
    "model.add(MaxPooling2D(pool_size=(2, 2)))\n",
    "\n",
    "model.add(Convolution2D(64, (3, 3)))\n",
    "model.add(Activation('relu'))\n",
    "model.add(MaxPooling2D(pool_size=(2, 2)))\n",
    "\n",
    "model.add(Flatten())\n",
    "model.add(Dense(64))\n",
    "model.add(Activation('relu'))\n",
    "model.add(Dropout(0.5))\n",
    "model.add(Dense(1))\n",
    "model.add(Activation('sigmoid'))\n",
    "\n",
    "model.compile(loss='binary_crossentropy',\n",
    "              optimizer='rmsprop',\n",
    "              metrics=['accuracy'])"
   ]
  },
  {
   "cell_type": "code",
   "execution_count": 5,
   "metadata": {},
   "outputs": [
    {
     "name": "stdout",
     "output_type": "stream",
     "text": [
      "_________________________________________________________________\n",
      "Layer (type)                 Output Shape              Param #   \n",
      "=================================================================\n",
      "conv2d_1 (Conv2D)            (None, 148, 148, 32)      896       \n",
      "_________________________________________________________________\n",
      "activation_1 (Activation)    (None, 148, 148, 32)      0         \n",
      "_________________________________________________________________\n",
      "max_pooling2d_1 (MaxPooling2 (None, 74, 74, 32)        0         \n",
      "_________________________________________________________________\n",
      "conv2d_2 (Conv2D)            (None, 72, 72, 32)        9248      \n",
      "_________________________________________________________________\n",
      "activation_2 (Activation)    (None, 72, 72, 32)        0         \n",
      "_________________________________________________________________\n",
      "max_pooling2d_2 (MaxPooling2 (None, 36, 36, 32)        0         \n",
      "_________________________________________________________________\n",
      "conv2d_3 (Conv2D)            (None, 34, 34, 64)        18496     \n",
      "_________________________________________________________________\n",
      "activation_3 (Activation)    (None, 34, 34, 64)        0         \n",
      "_________________________________________________________________\n",
      "max_pooling2d_3 (MaxPooling2 (None, 17, 17, 64)        0         \n",
      "_________________________________________________________________\n",
      "flatten_1 (Flatten)          (None, 18496)             0         \n",
      "_________________________________________________________________\n",
      "dense_1 (Dense)              (None, 64)                1183808   \n",
      "_________________________________________________________________\n",
      "activation_4 (Activation)    (None, 64)                0         \n",
      "_________________________________________________________________\n",
      "dropout_1 (Dropout)          (None, 64)                0         \n",
      "_________________________________________________________________\n",
      "dense_2 (Dense)              (None, 1)                 65        \n",
      "_________________________________________________________________\n",
      "activation_5 (Activation)    (None, 1)                 0         \n",
      "=================================================================\n",
      "Total params: 1,212,513\n",
      "Trainable params: 1,212,513\n",
      "Non-trainable params: 0\n",
      "_________________________________________________________________\n"
     ]
    }
   ],
   "source": [
    "from keras.utils import plot_model\n",
    "plot_model(model, to_file='model.png')\n",
    "model.summary()"
   ]
  },
  {
   "cell_type": "code",
   "execution_count": 6,
   "metadata": {},
   "outputs": [],
   "source": [
    "train_datagen = ImageDataGenerator(\n",
    "    rescale=1. / 255,\n",
    "    shear_range=0.2,\n",
    "    zoom_range=0.2,\n",
    "    horizontal_flip=True)"
   ]
  },
  {
   "cell_type": "code",
   "execution_count": 7,
   "metadata": {},
   "outputs": [],
   "source": [
    "test_datagen = ImageDataGenerator(rescale=1. / 255)"
   ]
  },
  {
   "cell_type": "code",
   "execution_count": 8,
   "metadata": {},
   "outputs": [
    {
     "name": "stdout",
     "output_type": "stream",
     "text": [
      "Found 20 images belonging to 2 classes.\n"
     ]
    }
   ],
   "source": [
    "train_generator = train_datagen.flow_from_directory(\n",
    "    train_data_dir,\n",
    "    target_size=(img_width, img_height),\n",
    "    batch_size=batch_size,\n",
    "    class_mode='binary')\n"
   ]
  },
  {
   "cell_type": "code",
   "execution_count": 10,
   "metadata": {},
   "outputs": [
    {
     "name": "stdout",
     "output_type": "stream",
     "text": [
      "Found 10 images belonging to 2 classes.\n"
     ]
    }
   ],
   "source": [
    "validation_generator = test_datagen.flow_from_directory(\n",
    "    validation_data_dir,\n",
    "    target_size=(img_width, img_height),\n",
    "    batch_size=batch_size,\n",
    "    class_mode='binary')"
   ]
  },
  {
   "cell_type": "code",
   "execution_count": 11,
   "metadata": {},
   "outputs": [
    {
     "name": "stdout",
     "output_type": "stream",
     "text": [
      "Epoch 1/50\n",
      "50/50 [==============================] - 270s 5s/step - loss: 0.7129 - acc: 0.5822 - val_loss: 0.8159 - val_acc: 0.4000\n",
      "Epoch 2/50\n",
      "50/50 [==============================] - 274s 5s/step - loss: 0.5574 - acc: 0.7002 - val_loss: 0.8224 - val_acc: 0.5000\n",
      "Epoch 3/50\n",
      "50/50 [==============================] - 254s 5s/step - loss: 0.4654 - acc: 0.7877 - val_loss: 0.9136 - val_acc: 0.6000\n",
      "Epoch 4/50\n",
      "50/50 [==============================] - 260s 5s/step - loss: 0.3274 - acc: 0.8513 - val_loss: 0.9189 - val_acc: 0.6000\n",
      "Epoch 5/50\n",
      "50/50 [==============================] - 250s 5s/step - loss: 0.3058 - acc: 0.8574 - val_loss: 0.8296 - val_acc: 0.7000\n",
      "Epoch 6/50\n",
      "50/50 [==============================] - 234s 5s/step - loss: 0.3028 - acc: 0.8924 - val_loss: 0.7960 - val_acc: 0.8000\n",
      "Epoch 7/50\n",
      "50/50 [==============================] - 586s 12s/step - loss: 0.2448 - acc: 0.8938 - val_loss: 1.2377 - val_acc: 0.6000\n",
      "Epoch 8/50\n",
      "50/50 [==============================] - 266s 5s/step - loss: 0.2208 - acc: 0.9087 - val_loss: 0.7661 - val_acc: 0.7000\n",
      "Epoch 9/50\n",
      "50/50 [==============================] - 266s 5s/step - loss: 0.1960 - acc: 0.9276 - val_loss: 0.8238 - val_acc: 0.7000\n",
      "Epoch 10/50\n",
      "50/50 [==============================] - 253s 5s/step - loss: 0.1620 - acc: 0.9398 - val_loss: 1.6634 - val_acc: 0.5000\n",
      "Epoch 11/50\n",
      "50/50 [==============================] - 261s 5s/step - loss: 0.1272 - acc: 0.9623 - val_loss: 1.7854 - val_acc: 0.4000\n",
      "Epoch 12/50\n",
      "50/50 [==============================] - 272s 5s/step - loss: 0.1187 - acc: 0.9575 - val_loss: 1.3778 - val_acc: 0.6000\n",
      "Epoch 13/50\n",
      "50/50 [==============================] - 254s 5s/step - loss: 0.1352 - acc: 0.9663 - val_loss: 1.1249 - val_acc: 0.6000\n",
      "Epoch 14/50\n",
      "50/50 [==============================] - 251s 5s/step - loss: 0.1227 - acc: 0.9761 - val_loss: 1.1112 - val_acc: 0.7000\n",
      "Epoch 15/50\n",
      "50/50 [==============================] - 214s 4s/step - loss: 0.0467 - acc: 0.9862 - val_loss: 1.5714 - val_acc: 0.5000\n",
      "Epoch 16/50\n",
      "50/50 [==============================] - 213s 4s/step - loss: 0.1198 - acc: 0.9661 - val_loss: 2.7565 - val_acc: 0.5000\n",
      "Epoch 17/50\n",
      "50/50 [==============================] - 212s 4s/step - loss: 0.0650 - acc: 0.9763 - val_loss: 1.9445 - val_acc: 0.6000\n",
      "Epoch 18/50\n",
      "50/50 [==============================] - 211s 4s/step - loss: 0.0743 - acc: 0.9726 - val_loss: 1.2374 - val_acc: 0.8000\n",
      "Epoch 19/50\n",
      "50/50 [==============================] - 215s 4s/step - loss: 0.0901 - acc: 0.9725 - val_loss: 1.5928 - val_acc: 0.7000\n",
      "Epoch 20/50\n",
      "50/50 [==============================] - 211s 4s/step - loss: 0.1488 - acc: 0.9726 - val_loss: 1.7036 - val_acc: 0.7000\n",
      "Epoch 21/50\n",
      "50/50 [==============================] - 213s 4s/step - loss: 0.0419 - acc: 0.9887 - val_loss: 1.0458 - val_acc: 0.6000\n",
      "Epoch 22/50\n",
      "50/50 [==============================] - 209s 4s/step - loss: 0.1628 - acc: 0.9638 - val_loss: 1.6794 - val_acc: 0.7000\n",
      "Epoch 23/50\n",
      "50/50 [==============================] - 173s 3s/step - loss: 0.0196 - acc: 0.9949 - val_loss: 1.3208 - val_acc: 0.6000\n",
      "Epoch 24/50\n",
      "50/50 [==============================] - 175s 3s/step - loss: 0.0511 - acc: 0.9862 - val_loss: 1.5415 - val_acc: 0.6000\n",
      "Epoch 25/50\n",
      "50/50 [==============================] - 201s 4s/step - loss: 0.0219 - acc: 0.9962 - val_loss: 1.0937 - val_acc: 0.7000\n",
      "Epoch 26/50\n",
      "50/50 [==============================] - 187s 4s/step - loss: 0.0449 - acc: 0.9887 - val_loss: 1.1796 - val_acc: 0.8000\n",
      "Epoch 27/50\n",
      "50/50 [==============================] - 182s 4s/step - loss: 0.0226 - acc: 0.9949 - val_loss: 0.8091 - val_acc: 0.9000\n",
      "Epoch 28/50\n",
      "50/50 [==============================] - 180s 4s/step - loss: 0.0236 - acc: 0.9925 - val_loss: 3.1442 - val_acc: 0.6000\n",
      "Epoch 29/50\n",
      "50/50 [==============================] - 189s 4s/step - loss: 4.0098e-04 - acc: 1.0000 - val_loss: 1.4377 - val_acc: 0.9000\n",
      "Epoch 30/50\n",
      "50/50 [==============================] - 183s 4s/step - loss: 0.0557 - acc: 0.9924 - val_loss: 1.2566 - val_acc: 0.8000\n",
      "Epoch 31/50\n",
      "50/50 [==============================] - 183s 4s/step - loss: 0.0366 - acc: 0.9887 - val_loss: 1.6666 - val_acc: 0.7000\n",
      "Epoch 32/50\n",
      "50/50 [==============================] - 206s 4s/step - loss: 0.0680 - acc: 0.9837 - val_loss: 1.6626 - val_acc: 0.5000\n",
      "Epoch 33/50\n",
      "50/50 [==============================] - 197s 4s/step - loss: 0.0277 - acc: 0.9913 - val_loss: 1.5654 - val_acc: 0.6000\n",
      "Epoch 34/50\n",
      "50/50 [==============================] - 182s 4s/step - loss: 0.0270 - acc: 0.9949 - val_loss: 1.9010 - val_acc: 0.6000\n",
      "Epoch 35/50\n",
      "50/50 [==============================] - 182s 4s/step - loss: 0.0024 - acc: 1.0000 - val_loss: 2.5384 - val_acc: 0.6000\n",
      "Epoch 36/50\n",
      "50/50 [==============================] - 179s 4s/step - loss: 0.1049 - acc: 0.9787 - val_loss: 0.2204 - val_acc: 0.9000\n",
      "Epoch 37/50\n",
      "50/50 [==============================] - 177s 4s/step - loss: 0.1292 - acc: 0.9711 - val_loss: 1.1964 - val_acc: 0.7000\n",
      "Epoch 38/50\n",
      "50/50 [==============================] - 180s 4s/step - loss: 6.2704e-04 - acc: 1.0000 - val_loss: 0.9168 - val_acc: 0.8000\n",
      "Epoch 39/50\n",
      "50/50 [==============================] - 186s 4s/step - loss: 1.6175e-04 - acc: 1.0000 - val_loss: 0.6752 - val_acc: 0.8000\n",
      "Epoch 40/50\n",
      "50/50 [==============================] - 180s 4s/step - loss: 0.0430 - acc: 0.9925 - val_loss: 2.7137 - val_acc: 0.6000\n",
      "Epoch 41/50\n",
      "50/50 [==============================] - 187s 4s/step - loss: 0.0163 - acc: 0.9962 - val_loss: 1.4086 - val_acc: 0.7000\n",
      "Epoch 42/50\n",
      "50/50 [==============================] - 187s 4s/step - loss: 0.0384 - acc: 0.9924 - val_loss: 1.4394 - val_acc: 0.7000\n",
      "Epoch 43/50\n",
      "50/50 [==============================] - 183s 4s/step - loss: 7.7098e-04 - acc: 1.0000 - val_loss: 1.3345 - val_acc: 0.7000\n",
      "Epoch 44/50\n",
      "50/50 [==============================] - 186s 4s/step - loss: 0.0214 - acc: 0.9863 - val_loss: 1.4757 - val_acc: 0.6000\n",
      "Epoch 45/50\n",
      "50/50 [==============================] - 185s 4s/step - loss: 0.2401 - acc: 0.9852 - val_loss: 6.4472 - val_acc: 0.6000\n",
      "Epoch 46/50\n",
      "50/50 [==============================] - 172s 3s/step - loss: 0.0017 - acc: 1.0000 - val_loss: 1.8081 - val_acc: 0.8000\n",
      "Epoch 47/50\n",
      "50/50 [==============================] - 166s 3s/step - loss: 0.1383 - acc: 0.9851 - val_loss: 2.1649 - val_acc: 0.8000\n",
      "Epoch 48/50\n",
      "50/50 [==============================] - 162s 3s/step - loss: 0.1064 - acc: 0.9775 - val_loss: 3.6102 - val_acc: 0.7000\n",
      "Epoch 49/50\n",
      "50/50 [==============================] - 161s 3s/step - loss: 0.0753 - acc: 0.9826 - val_loss: 2.2542 - val_acc: 0.6000\n",
      "Epoch 50/50\n",
      "50/50 [==============================] - 5408s 108s/step - loss: 9.9281e-04 - acc: 1.0000 - val_loss: 2.8558 - val_acc: 0.6000\n"
     ]
    }
   ],
   "source": [
    "H=model.fit_generator(\n",
    "    train_generator,\n",
    "    steps_per_epoch=50,\n",
    "    epochs=50,\n",
    "    validation_data=validation_generator)\n"
   ]
  },
  {
   "cell_type": "code",
   "execution_count": 12,
   "metadata": {},
   "outputs": [
    {
     "data": {
      "text/plain": [
       "0.9545600000000001"
      ]
     },
     "execution_count": 12,
     "metadata": {},
     "output_type": "execute_result"
    }
   ],
   "source": [
    "np.sum(H.history['acc'])/50"
   ]
  },
  {
   "cell_type": "code",
   "execution_count": 13,
   "metadata": {},
   "outputs": [],
   "source": [
    "glaucoma_path = '/Users/joinalahmed/Desktop/datas/glaucoma/predict/glaucoma/01_g.jpg'    # glaucomus\n",
    "healthy_path='/Users/joinalahmed/Desktop/datas/glaucoma/predict/healthy/01_h.jpg'        # healthy"
   ]
  },
  {
   "cell_type": "code",
   "execution_count": 14,
   "metadata": {},
   "outputs": [
    {
     "ename": "NameError",
     "evalue": "name 'load_image' is not defined",
     "output_type": "error",
     "traceback": [
      "\u001b[0;31m---------------------------------------------------------------------------\u001b[0m",
      "\u001b[0;31mNameError\u001b[0m                                 Traceback (most recent call last)",
      "\u001b[0;32m<ipython-input-14-64e575b04140>\u001b[0m in \u001b[0;36m<module>\u001b[0;34m()\u001b[0m\n\u001b[0;32m----> 1\u001b[0;31m \u001b[0mglaucoma_image\u001b[0m \u001b[0;34m=\u001b[0m \u001b[0mload_image\u001b[0m\u001b[0;34m(\u001b[0m\u001b[0mglaucoma_path\u001b[0m\u001b[0;34m)\u001b[0m\u001b[0;34m\u001b[0m\u001b[0m\n\u001b[0m\u001b[1;32m      2\u001b[0m \u001b[0mhealthy_image\u001b[0m \u001b[0;34m=\u001b[0m \u001b[0mload_image\u001b[0m\u001b[0;34m(\u001b[0m\u001b[0mhealthy_path\u001b[0m\u001b[0;34m)\u001b[0m\u001b[0;34m\u001b[0m\u001b[0m\n",
      "\u001b[0;31mNameError\u001b[0m: name 'load_image' is not defined"
     ]
    }
   ],
   "source": [
    "glaucoma_image = load_image(glaucoma_path)\n",
    "healthy_image = load_image(healthy_path)\n"
   ]
  },
  {
   "cell_type": "code",
   "execution_count": 15,
   "metadata": {},
   "outputs": [
    {
     "ename": "NameError",
     "evalue": "name 'glaucoma_image' is not defined",
     "output_type": "error",
     "traceback": [
      "\u001b[0;31m---------------------------------------------------------------------------\u001b[0m",
      "\u001b[0;31mNameError\u001b[0m                                 Traceback (most recent call last)",
      "\u001b[0;32m<ipython-input-15-57d6ad33eddb>\u001b[0m in \u001b[0;36m<module>\u001b[0;34m()\u001b[0m\n\u001b[0;32m----> 1\u001b[0;31m \u001b[0mglaucoma_pred\u001b[0m\u001b[0;34m=\u001b[0m \u001b[0mmodel\u001b[0m\u001b[0;34m.\u001b[0m\u001b[0mpredict_classes\u001b[0m\u001b[0;34m(\u001b[0m\u001b[0mglaucoma_image\u001b[0m\u001b[0;34m)\u001b[0m\u001b[0;34m\u001b[0m\u001b[0m\n\u001b[0m\u001b[1;32m      2\u001b[0m \u001b[0mhealthy_pred\u001b[0m \u001b[0;34m=\u001b[0m \u001b[0mmodel\u001b[0m\u001b[0;34m.\u001b[0m\u001b[0mpredict_classes\u001b[0m\u001b[0;34m(\u001b[0m\u001b[0mhealthy_image\u001b[0m\u001b[0;34m)\u001b[0m\u001b[0;34m\u001b[0m\u001b[0m\n",
      "\u001b[0;31mNameError\u001b[0m: name 'glaucoma_image' is not defined"
     ]
    }
   ],
   "source": [
    "glaucoma_pred= model.predict_classes(glaucoma_image)\n",
    "healthy_pred = model.predict_classes(healthy_image)\n"
   ]
  },
  {
   "cell_type": "code",
   "execution_count": 16,
   "metadata": {},
   "outputs": [
    {
     "ename": "NameError",
     "evalue": "name 'glaucoma_pred' is not defined",
     "output_type": "error",
     "traceback": [
      "\u001b[0;31m---------------------------------------------------------------------------\u001b[0m",
      "\u001b[0;31mNameError\u001b[0m                                 Traceback (most recent call last)",
      "\u001b[0;32m<ipython-input-16-1be2d84e2a3d>\u001b[0m in \u001b[0;36m<module>\u001b[0;34m()\u001b[0m\n\u001b[0;32m----> 1\u001b[0;31m \u001b[0mglaucoma_pred\u001b[0m\u001b[0;34m\u001b[0m\u001b[0m\n\u001b[0m",
      "\u001b[0;31mNameError\u001b[0m: name 'glaucoma_pred' is not defined"
     ]
    }
   ],
   "source": [
    "glaucoma_pred\n"
   ]
  },
  {
   "cell_type": "code",
   "execution_count": 17,
   "metadata": {},
   "outputs": [
    {
     "ename": "NameError",
     "evalue": "name 'healthy_pred' is not defined",
     "output_type": "error",
     "traceback": [
      "\u001b[0;31m---------------------------------------------------------------------------\u001b[0m",
      "\u001b[0;31mNameError\u001b[0m                                 Traceback (most recent call last)",
      "\u001b[0;32m<ipython-input-17-7a81a993829d>\u001b[0m in \u001b[0;36m<module>\u001b[0;34m()\u001b[0m\n\u001b[0;32m----> 1\u001b[0;31m \u001b[0mhealthy_pred\u001b[0m\u001b[0;34m\u001b[0m\u001b[0m\n\u001b[0m",
      "\u001b[0;31mNameError\u001b[0m: name 'healthy_pred' is not defined"
     ]
    }
   ],
   "source": [
    "healthy_pred"
   ]
  },
  {
   "cell_type": "code",
   "execution_count": 19,
   "metadata": {},
   "outputs": [
    {
     "data": {
      "image/png": "[encoded data removed]",
      "text/plain": [
       "<Figure size 432x288 with 1 Axes>"
      ]
     },
     "metadata": {},
     "output_type": "display_data"
    }
   ],
   "source": [
    "import matplotlib.pyplot as plt\n",
    "#plt.style.use(\"ggplot\")\n",
    "plt.figure()\n",
    "N = 50\n",
    "\n",
    "plt.plot(np.arange(0, N), H.history[\"loss\"], label=\"train_loss\")\n",
    "plt.plot(np.arange(0, N), H.history[\"val_loss\"], label=\"val_loss\")\n",
    "plt.plot(np.arange(0, N), H.history[\"acc\"], label=\"acc\")\n",
    "plt.plot(np.arange(0, N), H.history[\"val_acc\"], label=\"val_acc\")\n",
    "plt.title(\"Training Loss and Accuracy \")\n",
    "plt.xlabel(\"Epoch #\")\n",
    "plt.ylabel(\"Loss/Accuracy\")\n",
    "plt.legend(loc=\"right\")\n",
    "plt.savefig(\"plot1.jpg\")"
   ]
  },
  {
   "cell_type": "code",
   "execution_count": null,
   "metadata": {},
   "outputs": [],
   "source": []
  },
  {
   "cell_type": "code",
   "execution_count": null,
   "metadata": {},
   "outputs": [],
   "source": []
  },
  {
   "cell_type": "code",
   "execution_count": null,
   "metadata": {},
   "outputs": [],
   "source": []
  }
 ],
 "metadata": {
  "kernelspec": {
   "display_name": "Python 3",
   "language": "python",
   "name": "python3"
  },
  "language_info": {
   "codemirror_mode": {
    "name": "ipython",
    "version": 3
   },
   "file_extension": ".py",
   "mimetype": "text/x-python",
   "name": "python",
   "nbconvert_exporter": "python",
   "pygments_lexer": "ipython3",
   "version": "3.6.4"
  }
 },
 "nbformat": 4,
 "nbformat_minor": 2
}
